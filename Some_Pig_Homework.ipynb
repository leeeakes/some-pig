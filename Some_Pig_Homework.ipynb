{
 "metadata": {
  "name": "",
  "signature": "sha256:cab5e03789ef97115ec44019a57a07d3c84780d6a5a851a4fea1495f56ceb3c4"
 },
 "nbformat": 3,
 "nbformat_minor": 0,
 "worksheets": [
  {
   "cells": [
    {
     "cell_type": "code",
     "collapsed": false,
     "input": [
      "import random\n",
      "import matplotlib.pyplot as plt\n",
      "import seaborn as sb\n",
      "import statistics as st\n",
      "import math\n",
      "from numpy import mean"
     ],
     "language": "python",
     "metadata": {},
     "outputs": [],
     "prompt_number": 11
    },
    {
     "cell_type": "code",
     "collapsed": false,
     "input": [
      "%matplotlib inline"
     ],
     "language": "python",
     "metadata": {},
     "outputs": [],
     "prompt_number": 12
    },
    {
     "cell_type": "code",
     "collapsed": false,
     "input": [
      "class Player:\n",
      "    \"\"\"Player something something\n",
      "    \n",
      "    Responsibilities:\n",
      "\n",
      "    * Plays one turn\n",
      "    * Parent class only rolls once per turn\n",
      "\n",
      "    Collaborators:\n",
      "    * Interacts with Game Class\"\"\"\n",
      "\n",
      "    \n",
      "    def __init__(self, roll_num = 0):\n",
      "        self.roll_num = roll_num\n",
      "       \n",
      "    def dice_roll(self):\n",
      "        return random.randint(1, 6)\n",
      "    \n",
      "    def play_turn(self):\n",
      "        \"\"\"rolls only once per turn\"\"\"\n",
      "        turn_score = 0\n",
      "        roll_num = self.roll_num\n",
      "        while roll_num < 1:\n",
      "            roll = self.dice_roll()\n",
      "            if roll != 1:\n",
      "                turn_score += roll\n",
      "                roll_num += 1\n",
      "            else:\n",
      "                turn_score = 0\n",
      "                break\n",
      "        return turn_score\n",
      "    \n"
     ],
     "language": "python",
     "metadata": {},
     "outputs": [],
     "prompt_number": 13
    },
    {
     "cell_type": "code",
     "collapsed": false,
     "input": [
      "class Agro(Player):\n",
      "    \"\"\"Player rolls until score is 12+\"\"\"\n",
      "    \n",
      "    def play_turn(self):\n",
      "        turn_score = 0\n",
      "        #roll_num = self.roll_num\n",
      "        while turn_score < 12:\n",
      "            roll = self.dice_roll()\n",
      "            if roll != 1:\n",
      "                turn_score += roll\n",
      "                #roll_num += 1\n",
      "            else:\n",
      "                turn_score = 0\n",
      "                break\n",
      "        return turn_score"
     ],
     "language": "python",
     "metadata": {},
     "outputs": [],
     "prompt_number": 14
    },
    {
     "cell_type": "code",
     "collapsed": false,
     "input": [
      "class SuperAgro(Player):\n",
      "    \"\"\"Player rolls until score is 20+\"\"\"\n",
      "    \n",
      "    def play_turn(self):\n",
      "        turn_score = 0\n",
      "        #roll_num = self.roll_num\n",
      "        while turn_score < 21:\n",
      "            roll = self.dice_roll()\n",
      "            if roll != 1:\n",
      "                turn_score += roll\n",
      "                #roll_num += 1\n",
      "            else:\n",
      "                turn_score = 0\n",
      "                break\n",
      "        return turn_score"
     ],
     "language": "python",
     "metadata": {},
     "outputs": [],
     "prompt_number": 15
    },
    {
     "cell_type": "code",
     "collapsed": false,
     "input": [
      "class Dummy(Player):\n",
      "    \"\"\"Player rolls until turn score is 50+\"\"\"\n",
      "    \n",
      "    def play_turn(self):\n",
      "        turn_score = 0\n",
      "        #roll_num = self.roll_num\n",
      "        while turn_score < 50:\n",
      "            roll = self.dice_roll()\n",
      "            if roll != 1:\n",
      "                turn_score += roll\n",
      "                #roll_num += 1\n",
      "            else:\n",
      "                turn_score = 0\n",
      "                break\n",
      "        return turn_score\n",
      "    "
     ],
     "language": "python",
     "metadata": {},
     "outputs": [],
     "prompt_number": 16
    },
    {
     "cell_type": "code",
     "collapsed": false,
     "input": [
      "class FiveRoller(Player):\n",
      "    \"\"\"Player tries to roll 5 times each turn\"\"\"\n",
      "    \n",
      "    def play_turn(self):\n",
      "        \"\"\"rolls only once per turn\"\"\"\n",
      "        turn_score = 0\n",
      "        roll_num = self.roll_num\n",
      "        while roll_num < 6:\n",
      "            roll = self.dice_roll()\n",
      "            if roll != 1:\n",
      "                turn_score += roll\n",
      "                roll_num += 1\n",
      "            else:\n",
      "                turn_score = 0\n",
      "                break\n",
      "        return turn_score"
     ],
     "language": "python",
     "metadata": {},
     "outputs": [],
     "prompt_number": 17
    },
    {
     "cell_type": "code",
     "collapsed": false,
     "input": [
      "class SevenRoller(Player):\n",
      "    \"\"\"Player tries to roll 7 times each turn\"\"\"\n",
      "    \n",
      "    def play_turn(self):\n",
      "        \"\"\"rolls only once per turn\"\"\"\n",
      "        turn_score = 0\n",
      "        roll_num = self.roll_num\n",
      "        while roll_num < 8:\n",
      "            roll = self.dice_roll()\n",
      "            if roll != 1:\n",
      "                turn_score += roll\n",
      "                roll_num += 1\n",
      "            else:\n",
      "                turn_score = 0\n",
      "                break\n",
      "        return turn_score"
     ],
     "language": "python",
     "metadata": {},
     "outputs": [],
     "prompt_number": 18
    },
    {
     "cell_type": "code",
     "collapsed": false,
     "input": [
      "class Game:\n",
      "    \"\"\"Runs the game according to player strategy\n",
      "    \n",
      "    Responsibilites:\n",
      "    * Keeps up with Player turns\n",
      "    * Keeps up with final score\n",
      "    \n",
      "    Collaborators:\n",
      "    * Players\"\"\"\n",
      "    \n",
      "    def __init__(self, player):\n",
      "        self.player = player\n",
      "        \n",
      "    def play_game(self, player):\n",
      "        \"\"\"Runs the game for seven turns and returns total score\"\"\"\n",
      "        turns = 7\n",
      "        turn_score = []\n",
      "        while turns > 0:\n",
      "            turn_score.append(player.play_turn())\n",
      "            turns -= 1\n",
      "        \n",
      "        #print(turn_score)\n",
      "        total_score = sum(turn_score)\n",
      "        return total_score\n",
      "    "
     ],
     "language": "python",
     "metadata": {},
     "outputs": [],
     "prompt_number": 46
    },
    {
     "cell_type": "heading",
     "level": 1,
     "metadata": {},
     "source": [
      "Five_Roller Data for 25,000 Games\n"
     ]
    },
    {
     "cell_type": "code",
     "collapsed": false,
     "input": [
      "player = FiveRoller()\n",
      "game = Game(player)\n",
      "\n",
      "game.play_game(five_roller)"
     ],
     "language": "python",
     "metadata": {},
     "outputs": [
      {
       "metadata": {},
       "output_type": "pyout",
       "prompt_number": 49,
       "text": [
        "43"
       ]
      }
     ],
     "prompt_number": 49
    },
    {
     "cell_type": "code",
     "collapsed": false,
     "input": [
      "five_roller_list = [game.play_game(player) for _ in range(25000)]"
     ],
     "language": "python",
     "metadata": {},
     "outputs": [],
     "prompt_number": 50
    },
    {
     "cell_type": "code",
     "collapsed": false,
     "input": [
      "st.mean(five_roller_list)"
     ],
     "language": "python",
     "metadata": {},
     "outputs": [
      {
       "metadata": {},
       "output_type": "pyout",
       "prompt_number": 51,
       "text": [
        "56.62044"
       ]
      }
     ],
     "prompt_number": 51
    },
    {
     "cell_type": "code",
     "collapsed": false,
     "input": [
      "st.pstdev(five_roller_list)"
     ],
     "language": "python",
     "metadata": {},
     "outputs": [
      {
       "metadata": {},
       "output_type": "pyout",
       "prompt_number": 52,
       "text": [
        "30.420758277965394"
       ]
      }
     ],
     "prompt_number": 52
    },
    {
     "cell_type": "code",
     "collapsed": false,
     "input": [
      "plt.hist(five_roller_list, bins=50)\n",
      "plt.xlabel(\"Scores\")\n",
      "plt.ylabel(\"Games\")\n",
      "\n",
      "\n",
      "ymin, ymax = plt.ylim()\n",
      "mean = st.mean(five_roller_list)\n",
      "stdev = st.pstdev(five_roller_list)\n",
      "plt.vlines(mean, ymin, ymax, color=\"red\")\n",
      "plt.vlines([mean - 2 * stdev, mean - stdev, mean + stdev, mean + 2 * stdev], ymin, ymax, linestyles=\"dashed\", color=\"red\")\n",
      "plt.title(\"Player Holds @ 5 Rolls\\n Mean: {} \\n Standard Deviation: {}\".format(mean, stdev))\n",
      "plt.show()"
     ],
     "language": "python",
     "metadata": {},
     "outputs": [
      {
       "metadata": {},
       "output_type": "display_data",
       "png": "[encoded data removed]",
       "text": [
        "<matplotlib.figure.Figure at 0x10e2766a0>"
       ]
      }
     ],
     "prompt_number": 53
    },
    {
     "cell_type": "heading",
     "level": 1,
     "metadata": {},
     "source": [
      "Seven Roller Data for 25,000 games"
     ]
    },
    {
     "cell_type": "code",
     "collapsed": false,
     "input": [
      "seven_roller = SevenRoller()\n",
      "game = Game(player)\n",
      "\n",
      "game.play_game(seven_roller)"
     ],
     "language": "python",
     "metadata": {},
     "outputs": [
      {
       "metadata": {},
       "output_type": "pyout",
       "prompt_number": 54,
       "text": [
        "58"
       ]
      }
     ],
     "prompt_number": 54
    },
    {
     "cell_type": "code",
     "collapsed": false,
     "input": [
      "seven_roller_list = [game.play_game(seven_roller) for _ in range(25000)]"
     ],
     "language": "python",
     "metadata": {},
     "outputs": [],
     "prompt_number": 55
    },
    {
     "cell_type": "code",
     "collapsed": false,
     "input": [
      "st.mean(seven_roller_list)"
     ],
     "language": "python",
     "metadata": {},
     "outputs": [
      {
       "metadata": {},
       "output_type": "pyout",
       "prompt_number": 56,
       "text": [
        "52.36484"
       ]
      }
     ],
     "prompt_number": 56
    },
    {
     "cell_type": "code",
     "collapsed": false,
     "input": [
      "st.pstdev(seven_roller_list)"
     ],
     "language": "python",
     "metadata": {},
     "outputs": [
      {
       "metadata": {},
       "output_type": "pyout",
       "prompt_number": 57,
       "text": [
        "36.26210876072157"
       ]
      }
     ],
     "prompt_number": 57
    },
    {
     "cell_type": "code",
     "collapsed": false,
     "input": [
      "plt.hist(seven_roller_list, bins=50)\n",
      "plt.xlabel(\"Scores\")\n",
      "plt.ylabel(\"Games\")\n",
      "\n",
      "\n",
      "ymin, ymax = plt.ylim()\n",
      "mean = st.mean(seven_roller_list)\n",
      "stdev = st.pstdev(seven_roller_list)\n",
      "plt.vlines(mean, ymin, ymax, color=\"red\")\n",
      "plt.vlines([mean - 2 * stdev, mean - stdev, mean + stdev, mean + 2 * stdev], ymin, ymax, linestyles=\"dashed\", color=\"red\")\n",
      "plt.title(\"Player Holds @ 7 Rolls\\n Mean: {} \\n Standard Deviation: {}\".format(mean, stdev))\n",
      "plt.show()"
     ],
     "language": "python",
     "metadata": {},
     "outputs": [
      {
       "metadata": {},
       "output_type": "display_data",
       "png": "[encoded data removed]",
       "text": [
        "<matplotlib.figure.Figure at 0x10e3d4cf8>"
       ]
      }
     ],
     "prompt_number": 58
    },
    {
     "cell_type": "heading",
     "level": 1,
     "metadata": {},
     "source": [
      "Standard Player Data for 25,000 Games"
     ]
    },
    {
     "cell_type": "code",
     "collapsed": false,
     "input": [
      "standard_player = Player()\n",
      "game = Game(player)\n",
      "\n",
      "game.play_game(standard_player)"
     ],
     "language": "python",
     "metadata": {},
     "outputs": [
      {
       "metadata": {},
       "output_type": "pyout",
       "prompt_number": 59,
       "text": [
        "32"
       ]
      }
     ],
     "prompt_number": 59
    },
    {
     "cell_type": "code",
     "collapsed": false,
     "input": [
      "standard_player_list = [game.play_game(standard_player) for _ in range(25000)]"
     ],
     "language": "python",
     "metadata": {},
     "outputs": [],
     "prompt_number": 60
    },
    {
     "cell_type": "code",
     "collapsed": false,
     "input": [
      "st.mean(standard_player_list)"
     ],
     "language": "python",
     "metadata": {},
     "outputs": [
      {
       "metadata": {},
       "output_type": "pyout",
       "prompt_number": 61,
       "text": [
        "23.41216"
       ]
      }
     ],
     "prompt_number": 61
    },
    {
     "cell_type": "code",
     "collapsed": false,
     "input": [
      "st.pstdev(standard_player_list)"
     ],
     "language": "python",
     "metadata": {},
     "outputs": [
      {
       "metadata": {},
       "output_type": "pyout",
       "prompt_number": 62,
       "text": [
        "5.232938384349658"
       ]
      }
     ],
     "prompt_number": 62
    },
    {
     "cell_type": "code",
     "collapsed": false,
     "input": [
      "plt.hist(standard_player_list, bins=50)\n",
      "plt.xlabel(\"Scores\")\n",
      "plt.ylabel(\"Games\")\n",
      "\n",
      "\n",
      "ymin, ymax = plt.ylim()\n",
      "mean = st.mean(standard_player_list)\n",
      "stdev = st.pstdev(standard_player_list)\n",
      "plt.vlines(mean, ymin, ymax, color=\"red\")\n",
      "plt.vlines([mean - 2 * stdev, mean - stdev, mean + stdev, mean + 2 * stdev], ymin, ymax, linestyles=\"dashed\", color=\"red\")\n",
      "plt.title(\"Player Holds @ 1 Roll\\n Mean: {} \\n Standard Deviation: {}\".format(mean, stdev))\n",
      "plt.show()"
     ],
     "language": "python",
     "metadata": {},
     "outputs": [
      {
       "metadata": {},
       "output_type": "display_data",
       "png": "[encoded data removed]",
       "text": [
        "<matplotlib.figure.Figure at 0x10e4a5128>"
       ]
      }
     ],
     "prompt_number": 63
    },
    {
     "cell_type": "heading",
     "level": 1,
     "metadata": {},
     "source": [
      "Aggressive Player Data for 25,000 Games"
     ]
    },
    {
     "cell_type": "code",
     "collapsed": false,
     "input": [
      "agro_player = Agro()\n",
      "game = Game(player)\n",
      "\n",
      "game.play_game(agro_player)"
     ],
     "language": "python",
     "metadata": {},
     "outputs": [
      {
       "metadata": {},
       "output_type": "pyout",
       "prompt_number": 64,
       "text": [
        "51"
       ]
      }
     ],
     "prompt_number": 64
    },
    {
     "cell_type": "code",
     "collapsed": false,
     "input": [
      "agro_player_list = [game.play_game(agro_player) for _ in range(25000)]"
     ],
     "language": "python",
     "metadata": {},
     "outputs": [],
     "prompt_number": 65
    },
    {
     "cell_type": "code",
     "collapsed": false,
     "input": [
      "st.mean(agro_player_list)"
     ],
     "language": "python",
     "metadata": {},
     "outputs": [
      {
       "metadata": {},
       "output_type": "pyout",
       "prompt_number": 66,
       "text": [
        "51.53208"
       ]
      }
     ],
     "prompt_number": 66
    },
    {
     "cell_type": "code",
     "collapsed": false,
     "input": [
      "st.pstdev(agro_player_list)"
     ],
     "language": "python",
     "metadata": {},
     "outputs": [
      {
       "metadata": {},
       "output_type": "pyout",
       "prompt_number": 67,
       "text": [
        "18.263036189900077"
       ]
      }
     ],
     "prompt_number": 67
    },
    {
     "cell_type": "code",
     "collapsed": false,
     "input": [
      "plt.hist(agro_player_list, bins=50)\n",
      "plt.xlabel(\"Scores\")\n",
      "plt.ylabel(\"Games\")\n",
      "\n",
      "\n",
      "ymin, ymax = plt.ylim()\n",
      "mean = st.mean(agro_player_list)\n",
      "stdev = st.pstdev(agro_player_list)\n",
      "plt.vlines(mean, ymin, ymax, color=\"red\")\n",
      "plt.vlines([mean - 2 * stdev, mean - stdev, mean + stdev, mean + 2 * stdev], ymin, ymax, linestyles=\"dashed\", color=\"red\")\n",
      "plt.title(\"Player Holds 12+ points\\n Mean: {} \\n Standard Deviation: {}\".format(mean, stdev))\n",
      "plt.show()"
     ],
     "language": "python",
     "metadata": {},
     "outputs": [
      {
       "metadata": {},
       "output_type": "display_data",
       "png": "[encoded data removed]",
       "text": [
        "<matplotlib.figure.Figure at 0x10e324390>"
       ]
      }
     ],
     "prompt_number": 68
    },
    {
     "cell_type": "heading",
     "level": 1,
     "metadata": {},
     "source": [
      "Super Agressive Player Data for 25,000 Games"
     ]
    },
    {
     "cell_type": "code",
     "collapsed": false,
     "input": [
      "super_agro_player = SuperAgro()\n",
      "game = Game(player)\n",
      "\n",
      "game.play_game(super_agro_player)"
     ],
     "language": "python",
     "metadata": {},
     "outputs": [
      {
       "metadata": {},
       "output_type": "pyout",
       "prompt_number": 69,
       "text": [
        "70"
       ]
      }
     ],
     "prompt_number": 69
    },
    {
     "cell_type": "code",
     "collapsed": false,
     "input": [
      "super_agro_player_list = [game.play_game(super_agro_player) for _ in range(25000)]"
     ],
     "language": "python",
     "metadata": {},
     "outputs": [],
     "prompt_number": 70
    },
    {
     "cell_type": "code",
     "collapsed": false,
     "input": [
      "plt.hist(super_agro_player_list, bins=50)\n",
      "plt.xlabel(\"Scores\")\n",
      "plt.ylabel(\"Games\")\n",
      "\n",
      "\n",
      "ymin, ymax = plt.ylim()\n",
      "mean = st.mean(super_agro_player_list)\n",
      "stdev = st.pstdev(super_agro_player_list)\n",
      "plt.vlines(mean, ymin, ymax, color=\"red\")\n",
      "plt.vlines([mean - 2 * stdev, mean - stdev, mean + stdev, mean + 2 * stdev], ymin, ymax, linestyles=\"dashed\", color=\"red\")\n",
      "plt.title(\"Player Holds @ 20+ Points\\n Mean: {} \\n Standard Deviation: {}\".format(mean, stdev))\n",
      "plt.show()"
     ],
     "language": "python",
     "metadata": {},
     "outputs": [
      {
       "metadata": {},
       "output_type": "display_data",
       "png": "[encoded data removed]",
       "text": [
        "<matplotlib.figure.Figure at 0x10e5f4e80>"
       ]
      }
     ],
     "prompt_number": 71
    },
    {
     "cell_type": "code",
     "collapsed": false,
     "input": [
      "plt.boxplot([standard_player_list, five_roller_list, seven_roller_list, agro_player_list, super_agro_player_list])\n",
      "ymin, ymax = plt.ylim()\n",
      "plt.ylim(ymin - 30, ymax + 30)\n",
      "plt.title(\"Game Scores\")\n",
      "plt.ylabel(\"Scores\")\n",
      "plt.xticks(range(1,6), [\"Standard\", \"Five Rolls\", \"Seven Rolls\", \"Agressive\", \"Super Agressive\"])\n",
      "plt.show()"
     ],
     "language": "python",
     "metadata": {},
     "outputs": [
      {
       "metadata": {},
       "output_type": "display_data",
       "png": "[encoded data removed]",
       "text": [
        "<matplotlib.figure.Figure at 0x10e4fc2b0>"
       ]
      }
     ],
     "prompt_number": 73
    },
    {
     "cell_type": "code",
     "collapsed": false,
     "input": [
      "sb.violinplot([standard_player_list, five_roller_list, seven_roller_list, agro_player_list, super_agro_player_list])\n",
      "sb.despine(offset=10, trim=True);\n",
      "plt.ylabel(\"score\")\n",
      "plt.xticks(range(1,6), [\"Standard\", \"Five Rolls\", \"Seven Rolls\", \"Agressive\", \"Super Agressive\"])\n",
      "plt.show()"
     ],
     "language": "python",
     "metadata": {},
     "outputs": [
      {
       "metadata": {},
       "output_type": "display_data",
       "png": "[encoded data removed]",
       "text": [
        "<matplotlib.figure.Figure at 0x10e342e80>"
       ]
      }
     ],
     "prompt_number": 74
    }
   ],
   "metadata": {}
  }
 ]
}